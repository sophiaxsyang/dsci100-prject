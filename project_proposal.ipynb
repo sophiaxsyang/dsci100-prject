{
 "cells": [
  {
   "cell_type": "markdown",
   "id": "f1a1d31b-f8f4-402c-a188-ff95c280c7fd",
   "metadata": {},
   "source": [
    "# Heart Disease: Classification of Heart Disease Patients in Cleveland using Age, Blood Sugar, Cholestoral, and Heart Rate."
   ]
  },
  {
   "cell_type": "markdown",
   "id": "611f872f-b3fd-44e3-b7a0-a6bc39e5f159",
   "metadata": {},
   "source": [
    "### Introduction\n",
    "about heart disease\n"
   ]
  },
  {
   "cell_type": "markdown",
   "id": "b3d30a7b-83e9-4fe6-925c-613c0700ffa4",
   "metadata": {},
   "source": [
    "### UCl Heart Disease Dataset\n",
    "blah blah\n"
   ]
  },
  {
   "cell_type": "markdown",
   "id": "77df96df-e3a2-428a-b8de-39f2c38f4355",
   "metadata": {},
   "source": [
    "### Preliminary Data Analysis"
   ]
  },
  {
   "cell_type": "markdown",
   "id": "85f38ace-1d42-464d-80a7-1279dbafd95f",
   "metadata": {},
   "source": [
    "#### Reading Data and Setting Variables\n"
   ]
  },
  {
   "cell_type": "code",
   "execution_count": 26,
   "id": "b25fff10-1503-43af-ab3b-cea2e8e17610",
   "metadata": {},
   "outputs": [
    {
     "name": "stderr",
     "output_type": "stream",
     "text": [
      "Warning message:\n",
      "“\u001b[1m\u001b[22mOne or more parsing issues, call `problems()` on your data frame for details,\n",
      "e.g.:\n",
      "  dat <- vroom(...)\n",
      "  problems(dat)”\n"
     ]
    },
    {
     "data": {
      "text/html": [
       "<table class=\"dataframe\">\n",
       "<caption>A tibble: 6 × 14</caption>\n",
       "<thead>\n",
       "\t<tr><th scope=col>age</th><th scope=col>sex</th><th scope=col>cp</th><th scope=col>trestbps</th><th scope=col>chol</th><th scope=col>fbs</th><th scope=col>restecg</th><th scope=col>thalach</th><th scope=col>exang</th><th scope=col>oldpeak</th><th scope=col>slope</th><th scope=col>ca</th><th scope=col>thal</th><th scope=col>num</th></tr>\n",
       "\t<tr><th scope=col>&lt;dbl&gt;</th><th scope=col>&lt;fct&gt;</th><th scope=col>&lt;fct&gt;</th><th scope=col>&lt;dbl&gt;</th><th scope=col>&lt;dbl&gt;</th><th scope=col>&lt;fct&gt;</th><th scope=col>&lt;fct&gt;</th><th scope=col>&lt;dbl&gt;</th><th scope=col>&lt;fct&gt;</th><th scope=col>&lt;dbl&gt;</th><th scope=col>&lt;fct&gt;</th><th scope=col>&lt;dbl&gt;</th><th scope=col>&lt;fct&gt;</th><th scope=col>&lt;dbl&gt;</th></tr>\n",
       "</thead>\n",
       "<tbody>\n",
       "\t<tr><td>63</td><td>1.0</td><td>1.0</td><td>145</td><td>233</td><td>1.0</td><td>2.0</td><td>150</td><td>0.0</td><td>2.3</td><td>3.0</td><td>0</td><td>6.0</td><td>0</td></tr>\n",
       "\t<tr><td>67</td><td>1.0</td><td>4.0</td><td>160</td><td>286</td><td>0.0</td><td>2.0</td><td>108</td><td>1.0</td><td>1.5</td><td>2.0</td><td>3</td><td>3.0</td><td>2</td></tr>\n",
       "\t<tr><td>67</td><td>1.0</td><td>4.0</td><td>120</td><td>229</td><td>0.0</td><td>2.0</td><td>129</td><td>1.0</td><td>2.6</td><td>2.0</td><td>2</td><td>7.0</td><td>1</td></tr>\n",
       "\t<tr><td>37</td><td>1.0</td><td>3.0</td><td>130</td><td>250</td><td>0.0</td><td>0.0</td><td>187</td><td>0.0</td><td>3.5</td><td>3.0</td><td>0</td><td>3.0</td><td>0</td></tr>\n",
       "\t<tr><td>41</td><td>0.0</td><td>2.0</td><td>130</td><td>204</td><td>0.0</td><td>2.0</td><td>172</td><td>0.0</td><td>1.4</td><td>1.0</td><td>0</td><td>3.0</td><td>0</td></tr>\n",
       "\t<tr><td>56</td><td>1.0</td><td>2.0</td><td>120</td><td>236</td><td>0.0</td><td>0.0</td><td>178</td><td>0.0</td><td>0.8</td><td>1.0</td><td>0</td><td>3.0</td><td>0</td></tr>\n",
       "</tbody>\n",
       "</table>\n"
      ],
      "text/latex": [
       "A tibble: 6 × 14\n",
       "\\begin{tabular}{llllllllllllll}\n",
       " age & sex & cp & trestbps & chol & fbs & restecg & thalach & exang & oldpeak & slope & ca & thal & num\\\\\n",
       " <dbl> & <fct> & <fct> & <dbl> & <dbl> & <fct> & <fct> & <dbl> & <fct> & <dbl> & <fct> & <dbl> & <fct> & <dbl>\\\\\n",
       "\\hline\n",
       "\t 63 & 1.0 & 1.0 & 145 & 233 & 1.0 & 2.0 & 150 & 0.0 & 2.3 & 3.0 & 0 & 6.0 & 0\\\\\n",
       "\t 67 & 1.0 & 4.0 & 160 & 286 & 0.0 & 2.0 & 108 & 1.0 & 1.5 & 2.0 & 3 & 3.0 & 2\\\\\n",
       "\t 67 & 1.0 & 4.0 & 120 & 229 & 0.0 & 2.0 & 129 & 1.0 & 2.6 & 2.0 & 2 & 7.0 & 1\\\\\n",
       "\t 37 & 1.0 & 3.0 & 130 & 250 & 0.0 & 0.0 & 187 & 0.0 & 3.5 & 3.0 & 0 & 3.0 & 0\\\\\n",
       "\t 41 & 0.0 & 2.0 & 130 & 204 & 0.0 & 2.0 & 172 & 0.0 & 1.4 & 1.0 & 0 & 3.0 & 0\\\\\n",
       "\t 56 & 1.0 & 2.0 & 120 & 236 & 0.0 & 0.0 & 178 & 0.0 & 0.8 & 1.0 & 0 & 3.0 & 0\\\\\n",
       "\\end{tabular}\n"
      ],
      "text/markdown": [
       "\n",
       "A tibble: 6 × 14\n",
       "\n",
       "| age &lt;dbl&gt; | sex &lt;fct&gt; | cp &lt;fct&gt; | trestbps &lt;dbl&gt; | chol &lt;dbl&gt; | fbs &lt;fct&gt; | restecg &lt;fct&gt; | thalach &lt;dbl&gt; | exang &lt;fct&gt; | oldpeak &lt;dbl&gt; | slope &lt;fct&gt; | ca &lt;dbl&gt; | thal &lt;fct&gt; | num &lt;dbl&gt; |\n",
       "|---|---|---|---|---|---|---|---|---|---|---|---|---|---|\n",
       "| 63 | 1.0 | 1.0 | 145 | 233 | 1.0 | 2.0 | 150 | 0.0 | 2.3 | 3.0 | 0 | 6.0 | 0 |\n",
       "| 67 | 1.0 | 4.0 | 160 | 286 | 0.0 | 2.0 | 108 | 1.0 | 1.5 | 2.0 | 3 | 3.0 | 2 |\n",
       "| 67 | 1.0 | 4.0 | 120 | 229 | 0.0 | 2.0 | 129 | 1.0 | 2.6 | 2.0 | 2 | 7.0 | 1 |\n",
       "| 37 | 1.0 | 3.0 | 130 | 250 | 0.0 | 0.0 | 187 | 0.0 | 3.5 | 3.0 | 0 | 3.0 | 0 |\n",
       "| 41 | 0.0 | 2.0 | 130 | 204 | 0.0 | 2.0 | 172 | 0.0 | 1.4 | 1.0 | 0 | 3.0 | 0 |\n",
       "| 56 | 1.0 | 2.0 | 120 | 236 | 0.0 | 0.0 | 178 | 0.0 | 0.8 | 1.0 | 0 | 3.0 | 0 |\n",
       "\n"
      ],
      "text/plain": [
       "  age sex cp  trestbps chol fbs restecg thalach exang oldpeak slope ca thal num\n",
       "1 63  1.0 1.0 145      233  1.0 2.0     150     0.0   2.3     3.0   0  6.0  0  \n",
       "2 67  1.0 4.0 160      286  0.0 2.0     108     1.0   1.5     2.0   3  3.0  2  \n",
       "3 67  1.0 4.0 120      229  0.0 2.0     129     1.0   2.6     2.0   2  7.0  1  \n",
       "4 37  1.0 3.0 130      250  0.0 0.0     187     0.0   3.5     3.0   0  3.0  0  \n",
       "5 41  0.0 2.0 130      204  0.0 2.0     172     0.0   1.4     1.0   0  3.0  0  \n",
       "6 56  1.0 2.0 120      236  0.0 0.0     178     0.0   0.8     1.0   0  3.0  0  "
      ]
     },
     "metadata": {},
     "output_type": "display_data"
    }
   ],
   "source": [
    "library(tidyverse)\n",
    "library(tidymodels)\n",
    "library(repr)\n",
    "library(RColorBrewer)\n",
    "\n",
    "\n",
    "data_url <- \"https://raw.githubusercontent.com/sophiaxsyang/dsci100-prject/main/processed.cleveland.data\"\n",
    "\n",
    "cleveland_data_raw <- read_csv(data_url,\n",
    "                           col_names = c(\"age\", \"sex\", \"cp\", \"trestbps\", \"chol\", \"fbs\", \"restecg\", \n",
    "                                         \"thalach\", \"exang\", \"oldpeak\", \"slope\", \"ca\", \"thal\", \"num\"),\n",
    "                           col_types = list(\"d\", \"f\", \"f\", \"d\", \"d\", \"f\", \"f\", \"d\", \"f\", \"d\", \"f\", \"d\", \"f\", \"d\"))\n",
    "head(cleveland_data_raw)"
   ]
  },
  {
   "cell_type": "markdown",
   "id": "54fd3b25-ffa2-4678-b6d5-48f8b8f1e480",
   "metadata": {},
   "source": [
    "#### Tidying Data"
   ]
  },
  {
   "cell_type": "code",
   "execution_count": 34,
   "id": "7424e622-ae28-42fd-9e90-527153120b6f",
   "metadata": {},
   "outputs": [
    {
     "data": {
      "text/html": [
       "<table class=\"dataframe\">\n",
       "<caption>A tibble: 6 × 6</caption>\n",
       "<thead>\n",
       "\t<tr><th scope=col>age</th><th scope=col>fbs</th><th scope=col>chol</th><th scope=col>thalach</th><th scope=col>num</th><th scope=col>diag</th></tr>\n",
       "\t<tr><th scope=col>&lt;dbl&gt;</th><th scope=col>&lt;fct&gt;</th><th scope=col>&lt;dbl&gt;</th><th scope=col>&lt;dbl&gt;</th><th scope=col>&lt;dbl&gt;</th><th scope=col>&lt;lgl&gt;</th></tr>\n",
       "</thead>\n",
       "<tbody>\n",
       "\t<tr><td>63</td><td>1</td><td>233</td><td>150</td><td>0</td><td>FALSE</td></tr>\n",
       "\t<tr><td>67</td><td>2</td><td>286</td><td>108</td><td>2</td><td> TRUE</td></tr>\n",
       "\t<tr><td>67</td><td>2</td><td>229</td><td>129</td><td>1</td><td> TRUE</td></tr>\n",
       "\t<tr><td>37</td><td>2</td><td>250</td><td>187</td><td>0</td><td>FALSE</td></tr>\n",
       "\t<tr><td>41</td><td>2</td><td>204</td><td>172</td><td>0</td><td>FALSE</td></tr>\n",
       "\t<tr><td>56</td><td>2</td><td>236</td><td>178</td><td>0</td><td>FALSE</td></tr>\n",
       "</tbody>\n",
       "</table>\n"
      ],
      "text/latex": [
       "A tibble: 6 × 6\n",
       "\\begin{tabular}{llllll}\n",
       " age & fbs & chol & thalach & num & diag\\\\\n",
       " <dbl> & <fct> & <dbl> & <dbl> & <dbl> & <lgl>\\\\\n",
       "\\hline\n",
       "\t 63 & 1 & 233 & 150 & 0 & FALSE\\\\\n",
       "\t 67 & 2 & 286 & 108 & 2 &  TRUE\\\\\n",
       "\t 67 & 2 & 229 & 129 & 1 &  TRUE\\\\\n",
       "\t 37 & 2 & 250 & 187 & 0 & FALSE\\\\\n",
       "\t 41 & 2 & 204 & 172 & 0 & FALSE\\\\\n",
       "\t 56 & 2 & 236 & 178 & 0 & FALSE\\\\\n",
       "\\end{tabular}\n"
      ],
      "text/markdown": [
       "\n",
       "A tibble: 6 × 6\n",
       "\n",
       "| age &lt;dbl&gt; | fbs &lt;fct&gt; | chol &lt;dbl&gt; | thalach &lt;dbl&gt; | num &lt;dbl&gt; | diag &lt;lgl&gt; |\n",
       "|---|---|---|---|---|---|\n",
       "| 63 | 1 | 233 | 150 | 0 | FALSE |\n",
       "| 67 | 2 | 286 | 108 | 2 |  TRUE |\n",
       "| 67 | 2 | 229 | 129 | 1 |  TRUE |\n",
       "| 37 | 2 | 250 | 187 | 0 | FALSE |\n",
       "| 41 | 2 | 204 | 172 | 0 | FALSE |\n",
       "| 56 | 2 | 236 | 178 | 0 | FALSE |\n",
       "\n"
      ],
      "text/plain": [
       "  age fbs chol thalach num diag \n",
       "1 63  1   233  150     0   FALSE\n",
       "2 67  2   286  108     2    TRUE\n",
       "3 67  2   229  129     1    TRUE\n",
       "4 37  2   250  187     0   FALSE\n",
       "5 41  2   204  172     0   FALSE\n",
       "6 56  2   236  178     0   FALSE"
      ]
     },
     "metadata": {},
     "output_type": "display_data"
    },
    {
     "data": {
      "text/html": [
       "<table class=\"dataframe\">\n",
       "<caption>A tibble: 6 × 6</caption>\n",
       "<thead>\n",
       "\t<tr><th scope=col>age</th><th scope=col>fbs</th><th scope=col>chol</th><th scope=col>thalach</th><th scope=col>num</th><th scope=col>diag</th></tr>\n",
       "\t<tr><th scope=col>&lt;dbl&gt;</th><th scope=col>&lt;fct&gt;</th><th scope=col>&lt;dbl&gt;</th><th scope=col>&lt;dbl&gt;</th><th scope=col>&lt;dbl&gt;</th><th scope=col>&lt;lgl&gt;</th></tr>\n",
       "</thead>\n",
       "<tbody>\n",
       "\t<tr><td>63</td><td>1</td><td>233</td><td>150</td><td>0</td><td>FALSE</td></tr>\n",
       "\t<tr><td>41</td><td>2</td><td>204</td><td>172</td><td>0</td><td>FALSE</td></tr>\n",
       "\t<tr><td>56</td><td>2</td><td>294</td><td>153</td><td>0</td><td>FALSE</td></tr>\n",
       "\t<tr><td>57</td><td>2</td><td>168</td><td>174</td><td>0</td><td>FALSE</td></tr>\n",
       "\t<tr><td>49</td><td>2</td><td>266</td><td>171</td><td>0</td><td>FALSE</td></tr>\n",
       "\t<tr><td>64</td><td>2</td><td>211</td><td>144</td><td>0</td><td>FALSE</td></tr>\n",
       "</tbody>\n",
       "</table>\n"
      ],
      "text/latex": [
       "A tibble: 6 × 6\n",
       "\\begin{tabular}{llllll}\n",
       " age & fbs & chol & thalach & num & diag\\\\\n",
       " <dbl> & <fct> & <dbl> & <dbl> & <dbl> & <lgl>\\\\\n",
       "\\hline\n",
       "\t 63 & 1 & 233 & 150 & 0 & FALSE\\\\\n",
       "\t 41 & 2 & 204 & 172 & 0 & FALSE\\\\\n",
       "\t 56 & 2 & 294 & 153 & 0 & FALSE\\\\\n",
       "\t 57 & 2 & 168 & 174 & 0 & FALSE\\\\\n",
       "\t 49 & 2 & 266 & 171 & 0 & FALSE\\\\\n",
       "\t 64 & 2 & 211 & 144 & 0 & FALSE\\\\\n",
       "\\end{tabular}\n"
      ],
      "text/markdown": [
       "\n",
       "A tibble: 6 × 6\n",
       "\n",
       "| age &lt;dbl&gt; | fbs &lt;fct&gt; | chol &lt;dbl&gt; | thalach &lt;dbl&gt; | num &lt;dbl&gt; | diag &lt;lgl&gt; |\n",
       "|---|---|---|---|---|---|\n",
       "| 63 | 1 | 233 | 150 | 0 | FALSE |\n",
       "| 41 | 2 | 204 | 172 | 0 | FALSE |\n",
       "| 56 | 2 | 294 | 153 | 0 | FALSE |\n",
       "| 57 | 2 | 168 | 174 | 0 | FALSE |\n",
       "| 49 | 2 | 266 | 171 | 0 | FALSE |\n",
       "| 64 | 2 | 211 | 144 | 0 | FALSE |\n",
       "\n"
      ],
      "text/plain": [
       "  age fbs chol thalach num diag \n",
       "1 63  1   233  150     0   FALSE\n",
       "2 41  2   204  172     0   FALSE\n",
       "3 56  2   294  153     0   FALSE\n",
       "4 57  2   168  174     0   FALSE\n",
       "5 49  2   266  171     0   FALSE\n",
       "6 64  2   211  144     0   FALSE"
      ]
     },
     "metadata": {},
     "output_type": "display_data"
    }
   ],
   "source": [
    "set.seed(1)\n",
    "cleveland_data <- cleveland_data_raw |>\n",
    "    select(age, fbs, chol, thalach, num) |>\n",
    "    mutate(diag = ifelse((num > 0), TRUE, FALSE)) |>\n",
    "    mutate(fbs = as.factor(as.integer(fbs)))\n",
    "\n",
    "\n",
    "# Split the dataset into training and testing sets.\n",
    "cleveland_split <- initial_split(cleveland_data, prop = 3/4, strata = num)\n",
    "cleveland_training_data <- training(cleveland_split)\n",
    "cleveland_testing_data <- testing(cleveland_split)\n",
    "\n",
    "head(cleveland_training_data)"
   ]
  },
  {
   "cell_type": "code",
   "execution_count": null,
   "id": "7b5fcd77-f59c-46d8-a4b2-bc8b67d48e35",
   "metadata": {},
   "outputs": [],
   "source": []
  },
  {
   "cell_type": "code",
   "execution_count": null,
   "id": "5dc5b753-4150-445c-83cf-4a2f4b58b39d",
   "metadata": {},
   "outputs": [],
   "source": []
  }
 ],
 "metadata": {
  "kernelspec": {
   "display_name": "R",
   "language": "R",
   "name": "ir"
  },
  "language_info": {
   "codemirror_mode": "r",
   "file_extension": ".r",
   "mimetype": "text/x-r-source",
   "name": "R",
   "pygments_lexer": "r",
   "version": "4.3.1"
  }
 },
 "nbformat": 4,
 "nbformat_minor": 5
}
